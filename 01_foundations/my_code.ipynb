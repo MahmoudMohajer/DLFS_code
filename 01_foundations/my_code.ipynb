{
 "cells": [
  {
   "cell_type": "code",
   "execution_count": 3,
   "metadata": {},
   "outputs": [],
   "source": [
    "import numpy as np \n",
    "from typing import Callable"
   ]
  },
  {
   "cell_type": "code",
   "execution_count": 10,
   "metadata": {},
   "outputs": [],
   "source": [
    "def deriv(func: Callable[[np.ndarray], np.ndarray], input_: np.ndarray, delta: float = 0.0001):\n",
    "    numerator = (func(input_ + delta)) - (func(input_ - delta))\n",
    "    denominator = 2 * delta \n",
    "    derivative = numerator / denominator \n",
    "    return derivative \n",
    "\n",
    "def square(x: np.ndarray) -> np.ndarray:\n",
    "    return np.power(x, 2)"
   ]
  },
  {
   "cell_type": "code",
   "execution_count": 11,
   "metadata": {},
   "outputs": [
    {
     "data": {
      "text/plain": [
       "array([ 2.,  4.,  6.,  8., 10.])"
      ]
     },
     "execution_count": 11,
     "metadata": {},
     "output_type": "execute_result"
    }
   ],
   "source": [
    "sample = np.arange(1,6)\n",
    "derivatives = deriv(square, sample)\n",
    "derivatives"
   ]
  }
 ],
 "metadata": {
  "kernelspec": {
   "display_name": "dl",
   "language": "python",
   "name": "python3"
  },
  "language_info": {
   "codemirror_mode": {
    "name": "ipython",
    "version": 3
   },
   "file_extension": ".py",
   "mimetype": "text/x-python",
   "name": "python",
   "nbconvert_exporter": "python",
   "pygments_lexer": "ipython3",
   "version": "3.11.5"
  }
 },
 "nbformat": 4,
 "nbformat_minor": 2
}
